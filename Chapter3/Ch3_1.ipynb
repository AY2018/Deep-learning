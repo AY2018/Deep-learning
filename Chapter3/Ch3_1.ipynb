{
 "cells": [
  {
   "cell_type": "markdown",
   "id": "fb30f711-e9a9-41d7-8603-cbb0aa82968f",
   "metadata": {},
   "source": [
    "# Comment construire un modèle de classification binaire ? \n",
    "\n",
    "**Classification binaire** = Le fait de classiffier un objet selon 2 catégories (pas plus, ni moins). Exemple = Une imagepeut être une image d'un hot dog OU non. Une critique peut être positive OU négative"
   ]
  },
  {
   "cell_type": "code",
   "execution_count": 1,
   "id": "0c1b13df-afa2-484b-be0d-79743ed0f895",
   "metadata": {},
   "outputs": [],
   "source": [
    "from keras.datasets import imdb"
   ]
  },
  {
   "cell_type": "markdown",
   "id": "43010169-a1cf-4536-9be4-e2501a2843d4",
   "metadata": {},
   "source": [
    "#### Importation des données\n",
    "Nous commençons par importer le dataset `IMDB` qui est un ensemble de 50,000 critiques de films classées comme positives ou négatives. Les données sont divisées en un ensemble d'entraînement et un ensemble de test, chacun contenant 25,000 critiques. "
   ]
  },
  {
   "cell_type": "code",
   "execution_count": 2,
   "id": "4360f6a0-a5e0-4c78-a7f2-7ea16cfd9a34",
   "metadata": {},
   "outputs": [],
   "source": [
    "(train_data, train_labels), (test_data, test_labels) = imdb.load_data(num_words=10000)"
   ]
  },
  {
   "cell_type": "code",
   "execution_count": 3,
   "id": "3bd30b41-998e-4ef3-8da7-53508ba41ee6",
   "metadata": {
    "scrolled": true
   },
   "outputs": [
    {
     "data": {
      "text/plain": [
       "[1,\n",
       " 14,\n",
       " 22,\n",
       " 16,\n",
       " 43,\n",
       " 530,\n",
       " 973,\n",
       " 1622,\n",
       " 1385,\n",
       " 65,\n",
       " 458,\n",
       " 4468,\n",
       " 66,\n",
       " 3941,\n",
       " 4,\n",
       " 173,\n",
       " 36,\n",
       " 256,\n",
       " 5,\n",
       " 25,\n",
       " 100,\n",
       " 43,\n",
       " 838,\n",
       " 112,\n",
       " 50,\n",
       " 670,\n",
       " 2,\n",
       " 9,\n",
       " 35,\n",
       " 480,\n",
       " 284,\n",
       " 5,\n",
       " 150,\n",
       " 4,\n",
       " 172,\n",
       " 112,\n",
       " 167,\n",
       " 2,\n",
       " 336,\n",
       " 385,\n",
       " 39,\n",
       " 4,\n",
       " 172,\n",
       " 4536,\n",
       " 1111,\n",
       " 17,\n",
       " 546,\n",
       " 38,\n",
       " 13,\n",
       " 447,\n",
       " 4,\n",
       " 192,\n",
       " 50,\n",
       " 16,\n",
       " 6,\n",
       " 147,\n",
       " 2025,\n",
       " 19,\n",
       " 14,\n",
       " 22,\n",
       " 4,\n",
       " 1920,\n",
       " 4613,\n",
       " 469,\n",
       " 4,\n",
       " 22,\n",
       " 71,\n",
       " 87,\n",
       " 12,\n",
       " 16,\n",
       " 43,\n",
       " 530,\n",
       " 38,\n",
       " 76,\n",
       " 15,\n",
       " 13,\n",
       " 1247,\n",
       " 4,\n",
       " 22,\n",
       " 17,\n",
       " 515,\n",
       " 17,\n",
       " 12,\n",
       " 16,\n",
       " 626,\n",
       " 18,\n",
       " 2,\n",
       " 5,\n",
       " 62,\n",
       " 386,\n",
       " 12,\n",
       " 8,\n",
       " 316,\n",
       " 8,\n",
       " 106,\n",
       " 5,\n",
       " 4,\n",
       " 2223,\n",
       " 5244,\n",
       " 16,\n",
       " 480,\n",
       " 66,\n",
       " 3785,\n",
       " 33,\n",
       " 4,\n",
       " 130,\n",
       " 12,\n",
       " 16,\n",
       " 38,\n",
       " 619,\n",
       " 5,\n",
       " 25,\n",
       " 124,\n",
       " 51,\n",
       " 36,\n",
       " 135,\n",
       " 48,\n",
       " 25,\n",
       " 1415,\n",
       " 33,\n",
       " 6,\n",
       " 22,\n",
       " 12,\n",
       " 215,\n",
       " 28,\n",
       " 77,\n",
       " 52,\n",
       " 5,\n",
       " 14,\n",
       " 407,\n",
       " 16,\n",
       " 82,\n",
       " 2,\n",
       " 8,\n",
       " 4,\n",
       " 107,\n",
       " 117,\n",
       " 5952,\n",
       " 15,\n",
       " 256,\n",
       " 4,\n",
       " 2,\n",
       " 7,\n",
       " 3766,\n",
       " 5,\n",
       " 723,\n",
       " 36,\n",
       " 71,\n",
       " 43,\n",
       " 530,\n",
       " 476,\n",
       " 26,\n",
       " 400,\n",
       " 317,\n",
       " 46,\n",
       " 7,\n",
       " 4,\n",
       " 2,\n",
       " 1029,\n",
       " 13,\n",
       " 104,\n",
       " 88,\n",
       " 4,\n",
       " 381,\n",
       " 15,\n",
       " 297,\n",
       " 98,\n",
       " 32,\n",
       " 2071,\n",
       " 56,\n",
       " 26,\n",
       " 141,\n",
       " 6,\n",
       " 194,\n",
       " 7486,\n",
       " 18,\n",
       " 4,\n",
       " 226,\n",
       " 22,\n",
       " 21,\n",
       " 134,\n",
       " 476,\n",
       " 26,\n",
       " 480,\n",
       " 5,\n",
       " 144,\n",
       " 30,\n",
       " 5535,\n",
       " 18,\n",
       " 51,\n",
       " 36,\n",
       " 28,\n",
       " 224,\n",
       " 92,\n",
       " 25,\n",
       " 104,\n",
       " 4,\n",
       " 226,\n",
       " 65,\n",
       " 16,\n",
       " 38,\n",
       " 1334,\n",
       " 88,\n",
       " 12,\n",
       " 16,\n",
       " 283,\n",
       " 5,\n",
       " 16,\n",
       " 4472,\n",
       " 113,\n",
       " 103,\n",
       " 32,\n",
       " 15,\n",
       " 16,\n",
       " 5345,\n",
       " 19,\n",
       " 178,\n",
       " 32]"
      ]
     },
     "execution_count": 3,
     "metadata": {},
     "output_type": "execute_result"
    }
   ],
   "source": [
    "train_data[0]"
   ]
  },
  {
   "cell_type": "code",
   "execution_count": 4,
   "id": "9193fdba-b67b-474c-b488-d2dd04bf2a23",
   "metadata": {},
   "outputs": [
    {
     "data": {
      "text/plain": [
       "1"
      ]
     },
     "execution_count": 4,
     "metadata": {},
     "output_type": "execute_result"
    }
   ],
   "source": [
    "train_labels[0]"
   ]
  },
  {
   "cell_type": "code",
   "execution_count": 5,
   "id": "8b134752-956c-4e4f-9559-1d5f113f41f9",
   "metadata": {},
   "outputs": [
    {
     "data": {
      "text/plain": [
       "9999"
      ]
     },
     "execution_count": 5,
     "metadata": {},
     "output_type": "execute_result"
    }
   ],
   "source": [
    "max([max(sequence) for sequence in train_data])"
   ]
  },
  {
   "cell_type": "code",
   "execution_count": 6,
   "id": "8eb3672e-513c-4cf6-aa90-2715060cdc28",
   "metadata": {},
   "outputs": [],
   "source": [
    "import numpy as np"
   ]
  },
  {
   "cell_type": "markdown",
   "id": "c8abbcff-bb87-4639-b73e-d1dc2efea621",
   "metadata": {},
   "source": [
    "#### Prétraitement des données\n",
    "Les critiques, qui sont initialement des séquences de mots, sont transformées en séquences de nombres, où chaque nombre représente un mot spécifique dans un dictionnaire. Ensuite, ces séquences sont vectorisées pour former un tableau binaire de dimension fixe nécessaire pour l'entrée du modèle de réseau de neurones."
   ]
  },
  {
   "cell_type": "code",
   "execution_count": 7,
   "id": "d3e72260-e543-4542-aeb1-a9dc1dfa3769",
   "metadata": {},
   "outputs": [],
   "source": [
    "def vectorize_sequences (sequences, dimension=10000):\n",
    "    \n",
    "# Création d'une matrice ne contenant que des zéros et de la forme (Len (sequences), dimension)\n",
    "    results = np.zeros((len(sequences), dimension))\n",
    "\n",
    "# Initialisation à 1 des valeurs correspondantes aux indices spécifiques de results [i]\n",
    "    for i, sequence in enumerate(sequences) :\n",
    "        results[i, sequence] = 1. \n",
    "    return results\n",
    "    \n",
    "# Vectorisation des données d'apprentissage \n",
    "x_train = vectorize_sequences(train_data)\n",
    "\n",
    "# Vectorisation des données de test\n",
    "x_test = vectorize_sequences(test_data)"
   ]
  },
  {
   "cell_type": "code",
   "execution_count": 8,
   "id": "302dcd3f-cce4-484f-9477-9075f1683e3b",
   "metadata": {},
   "outputs": [
    {
     "data": {
      "text/plain": [
       "array([0., 1., 1., ..., 0., 0., 0.])"
      ]
     },
     "execution_count": 8,
     "metadata": {},
     "output_type": "execute_result"
    }
   ],
   "source": [
    "x_train[0]"
   ]
  },
  {
   "cell_type": "code",
   "execution_count": 9,
   "id": "be696d3e-c560-4428-b41a-af537653fc02",
   "metadata": {},
   "outputs": [],
   "source": [
    "# Transofrmer étiquettes en vecteurs\n",
    "y_train = np.asarray(train_labels).astype('float32') \n",
    "y_test = np.asarray(test_labels) .astype ('float32')"
   ]
  },
  {
   "cell_type": "markdown",
   "id": "a4d79fa9-7bcc-4431-a295-5ed8bc861b79",
   "metadata": {},
   "source": [
    "#### Construction du modèle\n",
    "Nous utilisons un modèle séquentiel avec Keras, ajoutant deux couches cachées `Dense` de 16 neurones chacune, activées par la fonction `relu`. La sortie est une seule unité avec une activation `sigmoid` qui prédit la probabilité que la critique soit positive (1 pour positive, 0 pour négative).\n"
   ]
  },
  {
   "cell_type": "code",
   "execution_count": 10,
   "id": "e59a2c5b-fd77-49c4-ab83-872fc430ff7f",
   "metadata": {},
   "outputs": [
    {
     "name": "stderr",
     "output_type": "stream",
     "text": [
      "/Users/ayoub/miniforge3/envs/keras/lib/python3.9/site-packages/keras/src/layers/core/dense.py:87: UserWarning: Do not pass an `input_shape`/`input_dim` argument to a layer. When using Sequential models, prefer using an `Input(shape)` object as the first layer in the model instead.\n",
      "  super().__init__(activity_regularizer=activity_regularizer, **kwargs)\n"
     ]
    }
   ],
   "source": [
    "# Définition du modèle \n",
    "from keras import models \n",
    "from keras import layers\n",
    "model = models. Sequential()\n",
    "model.add(layers. Dense(16, activation='relu', input_shape=(10000,))) \n",
    "model.add(layers. Dense(16, activation='relu'))\n",
    "model.add(layers.Dense(1, activation='sigmoid'))"
   ]
  },
  {
   "cell_type": "markdown",
   "id": "9d9ae786-6063-4c8a-b9c2-6814c2eb1999",
   "metadata": {},
   "source": [
    "#### Compilation du modèle\n",
    "Le modèle est compilé avec l'optimiseur `rmsprop`, la fonction de perte `binary_crossentropy` (**appropriée pour la classification binaire**), et nous suivrons l'`accuracy` (précision) pendant l'entraînement."
   ]
  },
  {
   "cell_type": "code",
   "execution_count": 11,
   "id": "610150fd-b732-45c1-82d3-e6b674894249",
   "metadata": {},
   "outputs": [],
   "source": [
    "model.compile(optimizer='rmsprop',\n",
    "              loss='binary_crossentropy', \n",
    "              metrics= ['accuracy'])"
   ]
  },
  {
   "cell_type": "markdown",
   "id": "93f87c16-a933-43cd-9dc5-146fe62aed4b",
   "metadata": {},
   "source": [
    "#### Entraînement du modèle\n",
    "Nous divisons l'ensemble d'entraînement pour avoir également un ensemble de validation. L'intérêt d'un ensemble de validation est de pouvoir tester notre modèle sur des données qu'il n'a jamais vu (différentes de l'ensemble d'entraînement) pour évaluer son efficacité (l'accuracy dans ce cas). La différence avec l'ensemble de test = ensemble de validation est utilisé pour tester plusieurs modèles et modifier les paramètres pour avoir le meilleur résultat. L'ensemble de test quant à lui, reste indépendant jusqu'à la fin où il faut tester le modèle final."
   ]
  },
  {
   "cell_type": "code",
   "execution_count": 12,
   "id": "02664648-28bb-4b0f-b114-f0a68267aad6",
   "metadata": {},
   "outputs": [],
   "source": [
    "# Création d'un ensemble de validation\n",
    "x_val = x_train[:10000] \n",
    "partial_x_train = x_train[10000:]\n",
    "\n",
    "y_val = y_train[:10000] \n",
    "partial_y_train = y_train[10000:]"
   ]
  },
  {
   "cell_type": "code",
   "execution_count": 13,
   "id": "30be00f3-d859-427b-bf3c-ce1a290eae03",
   "metadata": {},
   "outputs": [
    {
     "name": "stdout",
     "output_type": "stream",
     "text": [
      "Epoch 1/20\n",
      "\u001b[1m30/30\u001b[0m \u001b[32m━━━━━━━━━━━━━━━━━━━━\u001b[0m\u001b[37m\u001b[0m \u001b[1m1s\u001b[0m 12ms/step - acc: 0.6998 - loss: 0.5887 - val_acc: 0.8633 - val_loss: 0.3953\n",
      "Epoch 2/20\n",
      "\u001b[1m30/30\u001b[0m \u001b[32m━━━━━━━━━━━━━━━━━━━━\u001b[0m\u001b[37m\u001b[0m \u001b[1m0s\u001b[0m 4ms/step - acc: 0.8971 - loss: 0.3304 - val_acc: 0.8800 - val_loss: 0.3160\n",
      "Epoch 3/20\n",
      "\u001b[1m30/30\u001b[0m \u001b[32m━━━━━━━━━━━━━━━━━━━━\u001b[0m\u001b[37m\u001b[0m \u001b[1m0s\u001b[0m 4ms/step - acc: 0.9237 - loss: 0.2423 - val_acc: 0.8898 - val_loss: 0.2835\n",
      "Epoch 4/20\n",
      "\u001b[1m30/30\u001b[0m \u001b[32m━━━━━━━━━━━━━━━━━━━━\u001b[0m\u001b[37m\u001b[0m \u001b[1m0s\u001b[0m 4ms/step - acc: 0.9388 - loss: 0.1963 - val_acc: 0.8869 - val_loss: 0.2769\n",
      "Epoch 5/20\n",
      "\u001b[1m30/30\u001b[0m \u001b[32m━━━━━━━━━━━━━━━━━━━━\u001b[0m\u001b[37m\u001b[0m \u001b[1m0s\u001b[0m 4ms/step - acc: 0.9455 - loss: 0.1642 - val_acc: 0.8877 - val_loss: 0.2769\n",
      "Epoch 6/20\n",
      "\u001b[1m30/30\u001b[0m \u001b[32m━━━━━━━━━━━━━━━━━━━━\u001b[0m\u001b[37m\u001b[0m \u001b[1m0s\u001b[0m 4ms/step - acc: 0.9582 - loss: 0.1366 - val_acc: 0.8837 - val_loss: 0.2903\n",
      "Epoch 7/20\n",
      "\u001b[1m30/30\u001b[0m \u001b[32m━━━━━━━━━━━━━━━━━━━━\u001b[0m\u001b[37m\u001b[0m \u001b[1m0s\u001b[0m 4ms/step - acc: 0.9642 - loss: 0.1198 - val_acc: 0.8817 - val_loss: 0.2993\n",
      "Epoch 8/20\n",
      "\u001b[1m30/30\u001b[0m \u001b[32m━━━━━━━━━━━━━━━━━━━━\u001b[0m\u001b[37m\u001b[0m \u001b[1m0s\u001b[0m 4ms/step - acc: 0.9713 - loss: 0.0993 - val_acc: 0.8830 - val_loss: 0.3091\n",
      "Epoch 9/20\n",
      "\u001b[1m30/30\u001b[0m \u001b[32m━━━━━━━━━━━━━━━━━━━━\u001b[0m\u001b[37m\u001b[0m \u001b[1m0s\u001b[0m 4ms/step - acc: 0.9754 - loss: 0.0876 - val_acc: 0.8757 - val_loss: 0.3575\n",
      "Epoch 10/20\n",
      "\u001b[1m30/30\u001b[0m \u001b[32m━━━━━━━━━━━━━━━━━━━━\u001b[0m\u001b[37m\u001b[0m \u001b[1m0s\u001b[0m 4ms/step - acc: 0.9813 - loss: 0.0746 - val_acc: 0.8812 - val_loss: 0.3463\n",
      "Epoch 11/20\n",
      "\u001b[1m30/30\u001b[0m \u001b[32m━━━━━━━━━━━━━━━━━━━━\u001b[0m\u001b[37m\u001b[0m \u001b[1m0s\u001b[0m 4ms/step - acc: 0.9841 - loss: 0.0648 - val_acc: 0.8729 - val_loss: 0.3918\n",
      "Epoch 12/20\n",
      "\u001b[1m30/30\u001b[0m \u001b[32m━━━━━━━━━━━━━━━━━━━━\u001b[0m\u001b[37m\u001b[0m \u001b[1m0s\u001b[0m 4ms/step - acc: 0.9892 - loss: 0.0526 - val_acc: 0.8658 - val_loss: 0.4187\n",
      "Epoch 13/20\n",
      "\u001b[1m30/30\u001b[0m \u001b[32m━━━━━━━━━━━━━━━━━━━━\u001b[0m\u001b[37m\u001b[0m \u001b[1m0s\u001b[0m 4ms/step - acc: 0.9882 - loss: 0.0523 - val_acc: 0.8767 - val_loss: 0.4043\n",
      "Epoch 14/20\n",
      "\u001b[1m30/30\u001b[0m \u001b[32m━━━━━━━━━━━━━━━━━━━━\u001b[0m\u001b[37m\u001b[0m \u001b[1m0s\u001b[0m 4ms/step - acc: 0.9925 - loss: 0.0393 - val_acc: 0.8733 - val_loss: 0.4244\n",
      "Epoch 15/20\n",
      "\u001b[1m30/30\u001b[0m \u001b[32m━━━━━━━━━━━━━━━━━━━━\u001b[0m\u001b[37m\u001b[0m \u001b[1m0s\u001b[0m 4ms/step - acc: 0.9942 - loss: 0.0315 - val_acc: 0.8729 - val_loss: 0.4441\n",
      "Epoch 16/20\n",
      "\u001b[1m30/30\u001b[0m \u001b[32m━━━━━━━━━━━━━━━━━━━━\u001b[0m\u001b[37m\u001b[0m \u001b[1m0s\u001b[0m 4ms/step - acc: 0.9960 - loss: 0.0273 - val_acc: 0.8732 - val_loss: 0.4659\n",
      "Epoch 17/20\n",
      "\u001b[1m30/30\u001b[0m \u001b[32m━━━━━━━━━━━━━━━━━━━━\u001b[0m\u001b[37m\u001b[0m \u001b[1m0s\u001b[0m 4ms/step - acc: 0.9973 - loss: 0.0217 - val_acc: 0.8740 - val_loss: 0.4909\n",
      "Epoch 18/20\n",
      "\u001b[1m30/30\u001b[0m \u001b[32m━━━━━━━━━━━━━━━━━━━━\u001b[0m\u001b[37m\u001b[0m \u001b[1m0s\u001b[0m 5ms/step - acc: 0.9982 - loss: 0.0187 - val_acc: 0.8711 - val_loss: 0.5092\n",
      "Epoch 19/20\n",
      "\u001b[1m30/30\u001b[0m \u001b[32m━━━━━━━━━━━━━━━━━━━━\u001b[0m\u001b[37m\u001b[0m \u001b[1m0s\u001b[0m 5ms/step - acc: 0.9987 - loss: 0.0152 - val_acc: 0.8708 - val_loss: 0.5339\n",
      "Epoch 20/20\n",
      "\u001b[1m30/30\u001b[0m \u001b[32m━━━━━━━━━━━━━━━━━━━━\u001b[0m\u001b[37m\u001b[0m \u001b[1m0s\u001b[0m 4ms/step - acc: 0.9986 - loss: 0.0133 - val_acc: 0.8710 - val_loss: 0.5528\n"
     ]
    }
   ],
   "source": [
    "# Train modèle \n",
    "model.compile (optimizer='rmsprop',\n",
    "               loss='binary_crossentropy', \n",
    "               metrics=['acc'])\n",
    "\n",
    "history = model.fit (partial_x_train, \n",
    "                     partial_y_train,\n",
    "                     epochs=20,\n",
    "                     batch_size=512, \n",
    "                     validation_data=(x_val, y_val))"
   ]
  },
  {
   "cell_type": "code",
   "execution_count": 14,
   "id": "9a8018a5-ef83-4818-acb0-4f72f8d2f2b6",
   "metadata": {},
   "outputs": [],
   "source": [
    "history_dict = history.history"
   ]
  },
  {
   "cell_type": "code",
   "execution_count": 15,
   "id": "e0ae1a07-8b32-43b3-9fee-16fae9e69f7e",
   "metadata": {},
   "outputs": [
    {
     "data": {
      "text/plain": [
       "dict_keys(['acc', 'loss', 'val_acc', 'val_loss'])"
      ]
     },
     "execution_count": 15,
     "metadata": {},
     "output_type": "execute_result"
    }
   ],
   "source": [
    "history_dict.keys()"
   ]
  },
  {
   "cell_type": "markdown",
   "id": "bb5bc40a-1482-4227-b428-0b005e8ed542",
   "metadata": {},
   "source": [
    "#### Visualisation des résultats\n",
    "On trace des graphiques de perte et de précision pour montrer comment ces mesures évoluent au fil des époques sur les ensembles d'entraînement et de validation. Cela nous aide à détecter le surapprentissage (overfitting) si la perte de validation commence à augmenter tandis que la perte d'entraînement diminue."
   ]
  },
  {
   "cell_type": "code",
   "execution_count": 16,
   "id": "4a9ecadd-b2be-4d43-8829-be756735bb8b",
   "metadata": {},
   "outputs": [
    {
     "data": {
      "image/png": "[encoded data removed]",
      "text/plain": [
       "<Figure size 640x480 with 1 Axes>"
      ]
     },
     "metadata": {},
     "output_type": "display_data"
    }
   ],
   "source": [
    "import matplotlib.pyplot as plt\n",
    "\n",
    "history_dict = history.history\n",
    "loss_values = history_dict['loss'] \n",
    "val_loss_values = history_dict['val_loss'] \n",
    "acc_values = history_dict['acc']  \n",
    "\n",
    "epochs = range(1, len(acc_values) + 1) \n",
    "\n",
    "plt.plot(epochs, loss_values, 'bo', label='Training Loss')\n",
    "\n",
    "plt.plot(epochs, val_loss_values, 'b', label='Validation Loss')\n",
    "\n",
    "plt.title('Loss During Training and Validation')\n",
    "plt.xlabel('Number of Epochs')\n",
    "plt.ylabel('Loss')\n",
    "plt.legend()\n",
    "plt.show()\n"
   ]
  },
  {
   "cell_type": "code",
   "execution_count": 17,
   "id": "e4edca23-0776-4603-8acd-a2524065975d",
   "metadata": {},
   "outputs": [
    {
     "data": {
      "image/png": "[encoded data removed]",
      "text/plain": [
       "<Figure size 640x480 with 1 Axes>"
      ]
     },
     "metadata": {},
     "output_type": "display_data"
    }
   ],
   "source": [
    "plt.clf()\n",
    "acc_values = history_dict['acc']\n",
    "val_acc_values = history_dict['val_acc']\n",
    "\n",
    "plt.plot(epochs, acc_values, 'bo', label='Entraînement')  \n",
    "plt.plot(epochs, val_acc_values, 'b', label='Validation')  \n",
    "plt.title('Accuracy pendant l\\'entraînement et la validation')\n",
    "plt.xlabel('Nombre d\\'époques')\n",
    "plt.ylabel('Exactitude de prédiction')\n",
    "plt.legend()\n",
    "\n",
    "plt.show()\n"
   ]
  },
  {
   "cell_type": "markdown",
   "id": "43c12b5e-0de1-4058-8de9-fcfbdad428e2",
   "metadata": {},
   "source": [
    "#### Évaluation et prédiction\n",
    "Finalement, le modèle est évalué sur l'ensemble de test pour voir comment il performe sur des données qu'il n'a jamais vues auparavant. Nous utilisons également le modèle pour prédire la classe de nouvelles critiques."
   ]
  },
  {
   "cell_type": "code",
   "execution_count": 18,
   "id": "14f4196a-cd49-470d-9b95-1eaf41662dd9",
   "metadata": {},
   "outputs": [
    {
     "name": "stderr",
     "output_type": "stream",
     "text": [
      "/Users/ayoub/miniforge3/envs/keras/lib/python3.9/site-packages/keras/src/layers/core/dense.py:87: UserWarning: Do not pass an `input_shape`/`input_dim` argument to a layer. When using Sequential models, prefer using an `Input(shape)` object as the first layer in the model instead.\n",
      "  super().__init__(activity_regularizer=activity_regularizer, **kwargs)\n"
     ]
    },
    {
     "name": "stdout",
     "output_type": "stream",
     "text": [
      "Epoch 1/4\n",
      "\u001b[1m49/49\u001b[0m \u001b[32m━━━━━━━━━━━━━━━━━━━━\u001b[0m\u001b[37m\u001b[0m \u001b[1m1s\u001b[0m 3ms/step - accuracy: 0.7232 - loss: 0.5709\n",
      "Epoch 2/4\n",
      "\u001b[1m49/49\u001b[0m \u001b[32m━━━━━━━━━━━━━━━━━━━━\u001b[0m\u001b[37m\u001b[0m \u001b[1m0s\u001b[0m 3ms/step - accuracy: 0.8998 - loss: 0.2952\n",
      "Epoch 3/4\n",
      "\u001b[1m49/49\u001b[0m \u001b[32m━━━━━━━━━━━━━━━━━━━━\u001b[0m\u001b[37m\u001b[0m \u001b[1m0s\u001b[0m 3ms/step - accuracy: 0.9218 - loss: 0.2236\n",
      "Epoch 4/4\n",
      "\u001b[1m49/49\u001b[0m \u001b[32m━━━━━━━━━━━━━━━━━━━━\u001b[0m\u001b[37m\u001b[0m \u001b[1m0s\u001b[0m 3ms/step - accuracy: 0.9338 - loss: 0.1877\n",
      "\u001b[1m782/782\u001b[0m \u001b[32m━━━━━━━━━━━━━━━━━━━━\u001b[0m\u001b[37m\u001b[0m \u001b[1m0s\u001b[0m 380us/step - accuracy: 0.8798 - loss: 0.2965\n"
     ]
    }
   ],
   "source": [
    "model = models.Sequential ()\n",
    "model.add(layers. Dense(16, activation='relu', input_shape=(10000,))) \n",
    "model.add(layers. Dense(16, activation='relu'))\n",
    "model.add(layers. Dense(1, activation='sigmoid'))\n",
    "model.compile(optimizer='rmsprop',\n",
    "              loss= 'binary_crossentropy', \n",
    "              metrics=['accuracy'])\n",
    "\n",
    "model.fit(x_train, y_train, epochs=4, batch_size=512) \n",
    "results = model.evaluate(x_test, y_test)"
   ]
  },
  {
   "cell_type": "code",
   "execution_count": 19,
   "id": "904fe63f-b53c-4602-9452-11bf8a94152f",
   "metadata": {},
   "outputs": [
    {
     "data": {
      "text/plain": [
       "[0.2973557710647583, 0.8795599937438965]"
      ]
     },
     "execution_count": 19,
     "metadata": {},
     "output_type": "execute_result"
    }
   ],
   "source": [
    "results"
   ]
  },
  {
   "cell_type": "code",
   "execution_count": 20,
   "id": "9135da1a-aff6-4cee-8222-5926f2a0210b",
   "metadata": {},
   "outputs": [
    {
     "name": "stdout",
     "output_type": "stream",
     "text": [
      "\u001b[1m782/782\u001b[0m \u001b[32m━━━━━━━━━━━━━━━━━━━━\u001b[0m\u001b[37m\u001b[0m \u001b[1m0s\u001b[0m 339us/step\n"
     ]
    },
    {
     "data": {
      "text/plain": [
       "array([[0.17206386],\n",
       "       [0.99969447],\n",
       "       [0.7351868 ],\n",
       "       ...,\n",
       "       [0.07394491],\n",
       "       [0.05236027],\n",
       "       [0.4339396 ]], dtype=float32)"
      ]
     },
     "execution_count": 20,
     "metadata": {},
     "output_type": "execute_result"
    }
   ],
   "source": [
    "model.predict(x_test)"
   ]
  },
  {
   "cell_type": "code",
   "execution_count": null,
   "id": "b6943aee-9dd3-48cb-ba19-67423c0477a9",
   "metadata": {},
   "outputs": [],
   "source": []
  }
 ],
 "metadata": {
  "kernelspec": {
   "display_name": "Keras Env",
   "language": "python",
   "name": "keras"
  },
  "language_info": {
   "codemirror_mode": {
    "name": "ipython",
    "version": 3
   },
   "file_extension": ".py",
   "mimetype": "text/x-python",
   "name": "python",
   "nbconvert_exporter": "python",
   "pygments_lexer": "ipython3",
   "version": "3.9.19"
  }
 },
 "nbformat": 4,
 "nbformat_minor": 5
}
