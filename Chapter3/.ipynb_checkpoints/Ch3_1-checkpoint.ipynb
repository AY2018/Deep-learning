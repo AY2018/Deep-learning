{
 "cells": [
  {
   "cell_type": "code",
   "execution_count": 4,
   "id": "0c1b13df-afa2-484b-be0d-79743ed0f895",
   "metadata": {},
   "outputs": [],
   "source": [
    "from keras.datasets import imdb"
   ]
  },
  {
   "cell_type": "code",
   "execution_count": 5,
   "id": "4360f6a0-a5e0-4c78-a7f2-7ea16cfd9a34",
   "metadata": {},
   "outputs": [],
   "source": [
    "(train_data, train_labels), (test_data, test_labels) = imdb.load_data(num_words=10000)"
   ]
  },
  {
   "cell_type": "code",
   "execution_count": 6,
   "id": "3bd30b41-998e-4ef3-8da7-53508ba41ee6",
   "metadata": {},
   "outputs": [
    {
     "data": {
      "text/plain": [
       "[1,\n",
       " 14,\n",
       " 22,\n",
       " 16,\n",
       " 43,\n",
       " 530,\n",
       " 973,\n",
       " 1622,\n",
       " 1385,\n",
       " 65,\n",
       " 458,\n",
       " 4468,\n",
       " 66,\n",
       " 3941,\n",
       " 4,\n",
       " 173,\n",
       " 36,\n",
       " 256,\n",
       " 5,\n",
       " 25,\n",
       " 100,\n",
       " 43,\n",
       " 838,\n",
       " 112,\n",
       " 50,\n",
       " 670,\n",
       " 2,\n",
       " 9,\n",
       " 35,\n",
       " 480,\n",
       " 284,\n",
       " 5,\n",
       " 150,\n",
       " 4,\n",
       " 172,\n",
       " 112,\n",
       " 167,\n",
       " 2,\n",
       " 336,\n",
       " 385,\n",
       " 39,\n",
       " 4,\n",
       " 172,\n",
       " 4536,\n",
       " 1111,\n",
       " 17,\n",
       " 546,\n",
       " 38,\n",
       " 13,\n",
       " 447,\n",
       " 4,\n",
       " 192,\n",
       " 50,\n",
       " 16,\n",
       " 6,\n",
       " 147,\n",
       " 2025,\n",
       " 19,\n",
       " 14,\n",
       " 22,\n",
       " 4,\n",
       " 1920,\n",
       " 4613,\n",
       " 469,\n",
       " 4,\n",
       " 22,\n",
       " 71,\n",
       " 87,\n",
       " 12,\n",
       " 16,\n",
       " 43,\n",
       " 530,\n",
       " 38,\n",
       " 76,\n",
       " 15,\n",
       " 13,\n",
       " 1247,\n",
       " 4,\n",
       " 22,\n",
       " 17,\n",
       " 515,\n",
       " 17,\n",
       " 12,\n",
       " 16,\n",
       " 626,\n",
       " 18,\n",
       " 2,\n",
       " 5,\n",
       " 62,\n",
       " 386,\n",
       " 12,\n",
       " 8,\n",
       " 316,\n",
       " 8,\n",
       " 106,\n",
       " 5,\n",
       " 4,\n",
       " 2223,\n",
       " 5244,\n",
       " 16,\n",
       " 480,\n",
       " 66,\n",
       " 3785,\n",
       " 33,\n",
       " 4,\n",
       " 130,\n",
       " 12,\n",
       " 16,\n",
       " 38,\n",
       " 619,\n",
       " 5,\n",
       " 25,\n",
       " 124,\n",
       " 51,\n",
       " 36,\n",
       " 135,\n",
       " 48,\n",
       " 25,\n",
       " 1415,\n",
       " 33,\n",
       " 6,\n",
       " 22,\n",
       " 12,\n",
       " 215,\n",
       " 28,\n",
       " 77,\n",
       " 52,\n",
       " 5,\n",
       " 14,\n",
       " 407,\n",
       " 16,\n",
       " 82,\n",
       " 2,\n",
       " 8,\n",
       " 4,\n",
       " 107,\n",
       " 117,\n",
       " 5952,\n",
       " 15,\n",
       " 256,\n",
       " 4,\n",
       " 2,\n",
       " 7,\n",
       " 3766,\n",
       " 5,\n",
       " 723,\n",
       " 36,\n",
       " 71,\n",
       " 43,\n",
       " 530,\n",
       " 476,\n",
       " 26,\n",
       " 400,\n",
       " 317,\n",
       " 46,\n",
       " 7,\n",
       " 4,\n",
       " 2,\n",
       " 1029,\n",
       " 13,\n",
       " 104,\n",
       " 88,\n",
       " 4,\n",
       " 381,\n",
       " 15,\n",
       " 297,\n",
       " 98,\n",
       " 32,\n",
       " 2071,\n",
       " 56,\n",
       " 26,\n",
       " 141,\n",
       " 6,\n",
       " 194,\n",
       " 7486,\n",
       " 18,\n",
       " 4,\n",
       " 226,\n",
       " 22,\n",
       " 21,\n",
       " 134,\n",
       " 476,\n",
       " 26,\n",
       " 480,\n",
       " 5,\n",
       " 144,\n",
       " 30,\n",
       " 5535,\n",
       " 18,\n",
       " 51,\n",
       " 36,\n",
       " 28,\n",
       " 224,\n",
       " 92,\n",
       " 25,\n",
       " 104,\n",
       " 4,\n",
       " 226,\n",
       " 65,\n",
       " 16,\n",
       " 38,\n",
       " 1334,\n",
       " 88,\n",
       " 12,\n",
       " 16,\n",
       " 283,\n",
       " 5,\n",
       " 16,\n",
       " 4472,\n",
       " 113,\n",
       " 103,\n",
       " 32,\n",
       " 15,\n",
       " 16,\n",
       " 5345,\n",
       " 19,\n",
       " 178,\n",
       " 32]"
      ]
     },
     "execution_count": 6,
     "metadata": {},
     "output_type": "execute_result"
    }
   ],
   "source": [
    "train_data[0]"
   ]
  },
  {
   "cell_type": "code",
   "execution_count": 7,
   "id": "9193fdba-b67b-474c-b488-d2dd04bf2a23",
   "metadata": {},
   "outputs": [
    {
     "data": {
      "text/plain": [
       "1"
      ]
     },
     "execution_count": 7,
     "metadata": {},
     "output_type": "execute_result"
    }
   ],
   "source": [
    "train_labels[0]"
   ]
  },
  {
   "cell_type": "code",
   "execution_count": 8,
   "id": "8b134752-956c-4e4f-9559-1d5f113f41f9",
   "metadata": {},
   "outputs": [
    {
     "data": {
      "text/plain": [
       "9999"
      ]
     },
     "execution_count": 8,
     "metadata": {},
     "output_type": "execute_result"
    }
   ],
   "source": [
    "max([max(sequence) for sequence in train_data])"
   ]
  },
  {
   "cell_type": "code",
   "execution_count": 9,
   "id": "8eb3672e-513c-4cf6-aa90-2715060cdc28",
   "metadata": {},
   "outputs": [],
   "source": [
    "import numpy as np"
   ]
  },
  {
   "cell_type": "code",
   "execution_count": 10,
   "id": "d3e72260-e543-4542-aeb1-a9dc1dfa3769",
   "metadata": {},
   "outputs": [],
   "source": [
    "\n",
    "def vectorize_sequences (sequences, dimension=10000):\n",
    "    \n",
    "# Création d'une matrice ne contenant que des zéros et de la forme\n",
    "# (Len (sequences), dimension)\n",
    "    results = np.zeros((len(sequences), dimension))\n",
    "\n",
    "# Initialisation à 1 des valeurs correspondantes aux indices spécifiques de results [i]\n",
    "    for i, sequence in enumerate(sequences) :\n",
    "        results[i, sequence] = 1. \n",
    "    return results\n",
    "    \n",
    "# Vectorisation des données d'apprentissage \n",
    "x_train = vectorize_sequences(train_data)\n",
    "\n",
    "# Vectorisation des données de test\n",
    "x_test = vectorize_sequences(test_data)"
   ]
  },
  {
   "cell_type": "code",
   "execution_count": 11,
   "id": "302dcd3f-cce4-484f-9477-9075f1683e3b",
   "metadata": {},
   "outputs": [
    {
     "data": {
      "text/plain": [
       "array([0., 1., 1., ..., 0., 0., 0.])"
      ]
     },
     "execution_count": 11,
     "metadata": {},
     "output_type": "execute_result"
    }
   ],
   "source": [
    "x_train[0]"
   ]
  },
  {
   "cell_type": "code",
   "execution_count": 12,
   "id": "be696d3e-c560-4428-b41a-af537653fc02",
   "metadata": {},
   "outputs": [],
   "source": [
    "# Transofrmer étiquettes en vecteurs\n",
    "y_train = np.asarray(train_labels).astype('float32') \n",
    "y_test = np.asarray(test_labels) .astype ('float32')"
   ]
  },
  {
   "cell_type": "code",
   "execution_count": 13,
   "id": "e59a2c5b-fd77-49c4-ab83-872fc430ff7f",
   "metadata": {},
   "outputs": [],
   "source": [
    "# Définition du modèle \n",
    "from keras import models \n",
    "from keras import layers\n",
    "model = models. Sequential()\n",
    "model.add(layers. Dense(16, activation='relu', input_shape=(10000,))) \n",
    "model.add(layers. Dense(16, activation='relu'))\n",
    "model.add(layers.Dense(1, activation='sigmoid'))"
   ]
  },
  {
   "cell_type": "code",
   "execution_count": 14,
   "id": "610150fd-b732-45c1-82d3-e6b674894249",
   "metadata": {},
   "outputs": [],
   "source": [
    "model.compile(optimizer='rmsprop',\n",
    "              loss='binary_crossentropy', \n",
    "              metrics= ['accuracy'])"
   ]
  },
  {
   "cell_type": "code",
   "execution_count": 15,
   "id": "534acdc9-fd0e-420a-90b6-69cb0a79f6f6",
   "metadata": {},
   "outputs": [],
   "source": [
    "# Configuration de l'optimiseur \n",
    "from keras import optimizers\n",
    "from keras.optimizers import legacy\n",
    "\n",
    "model.compile(optimizer=legacy.RMSprop(learning_rate=0.001), \n",
    "              loss='binary_crossentropy', \n",
    "              metrics=['accuracy'])"
   ]
  },
  {
   "cell_type": "code",
   "execution_count": 16,
   "id": "ff6963e0-666f-4db5-a23c-ed0825bb6e3b",
   "metadata": {},
   "outputs": [],
   "source": [
    "# Utilisation des fonctions de perte personnalisées \n",
    "\n",
    "from keras import losses \n",
    "from keras import metrics\n",
    "model.compile(optimizer=legacy.RMSprop(learning_rate=0.001), \n",
    "                                           loss=losses.binary_crossentropy,\n",
    "                                           metrics=[metrics.binary_accuracy])"
   ]
  },
  {
   "cell_type": "code",
   "execution_count": 17,
   "id": "02664648-28bb-4b0f-b114-f0a68267aad6",
   "metadata": {},
   "outputs": [],
   "source": [
    "# Création d'un ensemble de validation\n",
    "x_val = x_train[:10000] \n",
    "partial_x_train = x_train[10000:]\n",
    "\n",
    "y_val = y_train[:10000] \n",
    "partial_y_train = y_train[10000:]"
   ]
  },
  {
   "cell_type": "code",
   "execution_count": 18,
   "id": "30be00f3-d859-427b-bf3c-ce1a290eae03",
   "metadata": {},
   "outputs": [
    {
     "name": "stdout",
     "output_type": "stream",
     "text": [
      "Epoch 1/20\n",
      "30/30 [==============================] - 1s 30ms/step - loss: 0.5343 - acc: 0.7789 - val_loss: 0.3944 - val_acc: 0.8691\n",
      "Epoch 2/20\n",
      "30/30 [==============================] - 0s 7ms/step - loss: 0.3107 - acc: 0.9032 - val_loss: 0.3203 - val_acc: 0.8760\n",
      "Epoch 3/20\n",
      "30/30 [==============================] - 0s 5ms/step - loss: 0.2233 - acc: 0.9279 - val_loss: 0.2950 - val_acc: 0.8818\n",
      "Epoch 4/20\n",
      "30/30 [==============================] - 0s 5ms/step - loss: 0.1785 - acc: 0.9401 - val_loss: 0.2824 - val_acc: 0.8867\n",
      "Epoch 5/20\n",
      "30/30 [==============================] - 0s 5ms/step - loss: 0.1443 - acc: 0.9551 - val_loss: 0.2825 - val_acc: 0.8874\n",
      "Epoch 6/20\n",
      "30/30 [==============================] - 0s 5ms/step - loss: 0.1179 - acc: 0.9639 - val_loss: 0.2922 - val_acc: 0.8846\n",
      "Epoch 7/20\n",
      "30/30 [==============================] - 0s 5ms/step - loss: 0.0971 - acc: 0.9709 - val_loss: 0.3292 - val_acc: 0.8813\n",
      "Epoch 8/20\n",
      "30/30 [==============================] - 0s 5ms/step - loss: 0.0816 - acc: 0.9770 - val_loss: 0.3288 - val_acc: 0.8813\n",
      "Epoch 9/20\n",
      "30/30 [==============================] - 0s 5ms/step - loss: 0.0651 - acc: 0.9832 - val_loss: 0.3612 - val_acc: 0.8818\n",
      "Epoch 10/20\n",
      "30/30 [==============================] - 0s 5ms/step - loss: 0.0539 - acc: 0.9860 - val_loss: 0.3770 - val_acc: 0.8774\n",
      "Epoch 11/20\n",
      "30/30 [==============================] - 0s 5ms/step - loss: 0.0434 - acc: 0.9902 - val_loss: 0.4037 - val_acc: 0.8743\n",
      "Epoch 12/20\n",
      "30/30 [==============================] - 0s 4ms/step - loss: 0.0348 - acc: 0.9925 - val_loss: 0.4338 - val_acc: 0.8741\n",
      "Epoch 13/20\n",
      "30/30 [==============================] - 0s 5ms/step - loss: 0.0289 - acc: 0.9940 - val_loss: 0.4610 - val_acc: 0.8715\n",
      "Epoch 14/20\n",
      "30/30 [==============================] - 0s 5ms/step - loss: 0.0233 - acc: 0.9949 - val_loss: 0.4959 - val_acc: 0.8731\n",
      "Epoch 15/20\n",
      "30/30 [==============================] - 0s 5ms/step - loss: 0.0181 - acc: 0.9972 - val_loss: 0.5180 - val_acc: 0.8705\n",
      "Epoch 16/20\n",
      "30/30 [==============================] - 0s 5ms/step - loss: 0.0153 - acc: 0.9973 - val_loss: 0.5474 - val_acc: 0.8699\n",
      "Epoch 17/20\n",
      "30/30 [==============================] - 0s 5ms/step - loss: 0.0079 - acc: 0.9995 - val_loss: 0.5782 - val_acc: 0.8680\n",
      "Epoch 18/20\n",
      "30/30 [==============================] - 0s 5ms/step - loss: 0.0119 - acc: 0.9973 - val_loss: 0.6077 - val_acc: 0.8666\n",
      "Epoch 19/20\n",
      "30/30 [==============================] - 0s 5ms/step - loss: 0.0043 - acc: 0.9999 - val_loss: 0.6404 - val_acc: 0.8667\n",
      "Epoch 20/20\n",
      "30/30 [==============================] - 0s 5ms/step - loss: 0.0070 - acc: 0.9987 - val_loss: 0.6749 - val_acc: 0.8672\n"
     ]
    }
   ],
   "source": [
    "# Train modèle \n",
    "\n",
    "model.compile (optimizer='rmsprop',\n",
    "               loss='binary_crossentropy', \n",
    "               metrics=['acc'])\n",
    "\n",
    "history = model.fit (partial_x_train, \n",
    "                     partial_y_train,\n",
    "                     epochs=20,\n",
    "                     batch_size=512, \n",
    "                     validation_data=(x_val, y_val))"
   ]
  },
  {
   "cell_type": "code",
   "execution_count": null,
   "id": "5035a2d0-f532-4a06-92b6-f7b5403b3e5a",
   "metadata": {},
   "outputs": [],
   "source": []
  },
  {
   "cell_type": "code",
   "execution_count": 19,
   "id": "9a8018a5-ef83-4818-acb0-4f72f8d2f2b6",
   "metadata": {},
   "outputs": [],
   "source": [
    "history_dict = history.history"
   ]
  },
  {
   "cell_type": "code",
   "execution_count": 20,
   "id": "e0ae1a07-8b32-43b3-9fee-16fae9e69f7e",
   "metadata": {},
   "outputs": [
    {
     "data": {
      "text/plain": [
       "dict_keys(['loss', 'acc', 'val_loss', 'val_acc'])"
      ]
     },
     "execution_count": 20,
     "metadata": {},
     "output_type": "execute_result"
    }
   ],
   "source": [
    "history_dict.keys()"
   ]
  },
  {
   "cell_type": "code",
   "execution_count": 24,
   "id": "4a9ecadd-b2be-4d43-8829-be756735bb8b",
   "metadata": {},
   "outputs": [
    {
     "data": {
      "image/png": "[encoded data removed]",
      "text/plain": [
       "<Figure size 640x480 with 1 Axes>"
      ]
     },
     "metadata": {},
     "output_type": "display_data"
    }
   ],
   "source": [
    "import matplotlib.pyplot as plt\n",
    "\n",
    "history_dict = history.history\n",
    "loss_values = history_dict['loss'] \n",
    "val_loss_values = history_dict['val_loss'] \n",
    "acc_values = history_dict['acc']  \n",
    "\n",
    "epochs = range(1, len(acc_values) + 1)  # Use acc_values for epoch length\n",
    "\n",
    "# 'bo' corresponds to 'blue dot'\n",
    "plt.plot(epochs, loss_values, 'bo', label='Training Loss')\n",
    "\n",
    "# 'b' corresponds to 'solid blue line'\n",
    "plt.plot(epochs, val_loss_values, 'b', label='Validation Loss')\n",
    "\n",
    "plt.title('Loss During Training and Validation')\n",
    "plt.xlabel('Number of Epochs')\n",
    "plt.ylabel('Loss')\n",
    "plt.legend()\n",
    "plt.show()\n"
   ]
  },
  {
   "cell_type": "code",
   "execution_count": 26,
   "id": "e4edca23-0776-4603-8acd-a2524065975d",
   "metadata": {},
   "outputs": [
    {
     "data": {
      "image/png": "[encoded data removed]",
      "text/plain": [
       "<Figure size 640x480 with 1 Axes>"
      ]
     },
     "metadata": {},
     "output_type": "display_data"
    }
   ],
   "source": [
    "plt.clf()\n",
    "acc_values = history_dict['acc']\n",
    "val_acc_values = history_dict['val_acc']\n",
    "\n",
    "plt.plot(epochs, acc_values, 'bo', label='Entraînement')  # Use acc_values here\n",
    "plt.plot(epochs, val_acc_values, 'b', label='Validation')  # Use val_acc_values here\n",
    "plt.title('Exactitude pendant l\\'entraînement et la validation')\n",
    "plt.xlabel('Nombre d\\'époques')\n",
    "plt.ylabel('Exactitude de prédiction')\n",
    "plt.legend()\n",
    "\n",
    "plt.show()\n"
   ]
  },
  {
   "cell_type": "code",
   "execution_count": 29,
   "id": "14f4196a-cd49-470d-9b95-1eaf41662dd9",
   "metadata": {},
   "outputs": [
    {
     "name": "stdout",
     "output_type": "stream",
     "text": [
      "Epoch 1/4\n",
      "49/49 [==============================] - 0s 4ms/step - loss: 0.4875 - accuracy: 0.8077\n",
      "Epoch 2/4\n",
      "49/49 [==============================] - 0s 3ms/step - loss: 0.2753 - accuracy: 0.9038\n",
      "Epoch 3/4\n",
      "49/49 [==============================] - 0s 3ms/step - loss: 0.2044 - accuracy: 0.9287\n",
      "Epoch 4/4\n",
      "49/49 [==============================] - 0s 3ms/step - loss: 0.1675 - accuracy: 0.9422\n",
      "782/782 [==============================] - 0s 388us/step - loss: 0.3006 - accuracy: 0.8807\n"
     ]
    }
   ],
   "source": [
    "model = models.Sequential ()\n",
    "model.add(layers. Dense(16, activation='relu', input_shape=(10000,))) \n",
    "model.add(layers. Dense(16, activation='relu'))\n",
    "model.add(layers. Dense(1, activation='sigmoid'))\n",
    "model.compile(optimizer='rmsprop',\n",
    "              loss= 'binary_crossentropy', \n",
    "              metrics=['accuracy'])\n",
    "\n",
    "model.fit(x_train, y_train, epochs=4, batch_size=512) \n",
    "results = model.evaluate(x_test, y_test)"
   ]
  },
  {
   "cell_type": "code",
   "execution_count": 30,
   "id": "904fe63f-b53c-4602-9452-11bf8a94152f",
   "metadata": {},
   "outputs": [
    {
     "data": {
      "text/plain": [
       "[0.3006029725074768, 0.8807200193405151]"
      ]
     },
     "execution_count": 30,
     "metadata": {},
     "output_type": "execute_result"
    }
   ],
   "source": [
    "results"
   ]
  },
  {
   "cell_type": "code",
   "execution_count": 32,
   "id": "9135da1a-aff6-4cee-8222-5926f2a0210b",
   "metadata": {},
   "outputs": [
    {
     "name": "stdout",
     "output_type": "stream",
     "text": [
      "782/782 [==============================] - 0s 358us/step\n"
     ]
    },
    {
     "data": {
      "text/plain": [
       "array([[0.20157218],\n",
       "       [0.99999446],\n",
       "       [0.96535563],\n",
       "       ...,\n",
       "       [0.16044635],\n",
       "       [0.10764586],\n",
       "       [0.7377979 ]], dtype=float32)"
      ]
     },
     "execution_count": 32,
     "metadata": {},
     "output_type": "execute_result"
    }
   ],
   "source": [
    "model.predict(x_test)"
   ]
  },
  {
   "cell_type": "code",
   "execution_count": null,
   "id": "b6943aee-9dd3-48cb-ba19-67423c0477a9",
   "metadata": {},
   "outputs": [],
   "source": []
  }
 ],
 "metadata": {
  "kernelspec": {
   "display_name": "Keras Env",
   "language": "python",
   "name": "keras"
  },
  "language_info": {
   "codemirror_mode": {
    "name": "ipython",
    "version": 3
   },
   "file_extension": ".py",
   "mimetype": "text/x-python",
   "name": "python",
   "nbconvert_exporter": "python",
   "pygments_lexer": "ipython3",
   "version": "3.8.19"
  }
 },
 "nbformat": 4,
 "nbformat_minor": 5
}
