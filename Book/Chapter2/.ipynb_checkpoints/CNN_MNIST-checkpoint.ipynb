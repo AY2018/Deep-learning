{
 "cells": [
  {
   "cell_type": "markdown",
   "id": "053babda-2479-4077-a6db-401b8b05b4a1",
   "metadata": {},
   "source": [
    "# MNIST : RdN - CNN"
   ]
  },
  {
   "cell_type": "code",
   "execution_count": 1,
   "id": "b70855f9-267e-4c45-a5db-fe7a51595f3d",
   "metadata": {},
   "outputs": [],
   "source": [
    "import numpy as np\n",
    "import tensorflow as tf\n",
    "from tensorflow.keras import layers, models\n",
    "from keras.datasets import mnist\n",
    "from tensorflow.keras.utils import to_categorical"
   ]
  },
  {
   "cell_type": "code",
   "execution_count": 2,
   "id": "697ea7ed-e2a4-4b71-8b3a-7baf45bf27f5",
   "metadata": {},
   "outputs": [],
   "source": [
    "# Load nos données \n",
    "(train_images, train_labels), (test_images, test_labels) = mnist.load_data()"
   ]
  },
  {
   "cell_type": "code",
   "execution_count": 3,
   "id": "6d7c63c4-a01b-4f85-94d6-efac10dceb74",
   "metadata": {},
   "outputs": [],
   "source": [
    "# Préparer les données \n",
    "train_images = train_images.reshape((60000, 28, 28, 1)).astype('float32') / 255\n",
    "test_images = test_images.reshape((10000, 28, 28, 1)).astype('float32') / 255\n",
    "\n",
    "train_labels = to_categorical(train_labels, 10)\n",
    "test_labels = to_categorical(test_labels, 10)"
   ]
  },
  {
   "cell_type": "markdown",
   "id": "9a9f168a-628e-4758-b3a5-2ccd901a681f",
   "metadata": {},
   "source": [
    "Un CNN typique comprend plusieurs types de couches :\n",
    "\n",
    "**Couches de convolution** : Ces couches utilisent un ensemble de filtres qui effectuent une opération de convolution sur l'entrée pour extraire des caractéristiques. Chaque filtre produit une **carte d'activation** qui réagit à la présence de caractéristiques spécifiques à un emplacement donné dans l'entrée.\n",
    "\n",
    "```python\n",
    "layers.Conv2D(32, (3, 3), activation='relu', input_shape=(28, 28, 1)),\n",
    "```\n",
    "\n",
    "**Couches de pooling** (sous-échantillonnage) : Après la convolution, les couches de pooling sont utilisées pour réduire les dimensions spatiales des cartes d'activation. = aide à rendre le modèle plus robuste aux variations de position des caractéristiques dans les entrées et réduit la quantité de calculs nécessaires.\n",
    "\n",
    "```python\n",
    "layers.MaxPooling2D((2, 2))\n",
    "```\n",
    "\n",
    "Couches entièrement connectées : Après plusieurs couches de convolution et de pooling, les cartes d'activation sont aplaties en un vecteur et passées à une ou plusieurs couches entièrement connectées (similaires à celles des MLP) pour la classification ou la régression.\n",
    "\n",
    "```python\n",
    "layers.Flatten(),\n",
    "    layers.Dense(64, activation='relu'),\n",
    "    layers.Dense(10, activation='softmax')\n",
    "```\n",
    "\n",
    "Avantages :\n",
    "- Invariance spatiale : Grâce aux couches de pooling, les CNN sont capables de détecter des caractéristiques indépendamment de leur position dans l'entrée, ce qui est crucial pour des tâches comme la reconnaissance d'objets.\n",
    "- Excellente performance : Sur des tâches de vision par ordinateur et autres tâches similaires, les CNN surpassent souvent les autres types de réseaux de neurones et sont le choix standard pour la détection et la reconnaissance d'objets, la segmentation d'images, etc."
   ]
  },
  {
   "cell_type": "code",
   "execution_count": 4,
   "id": "11ef829f-1e57-484e-a2a0-b74e46c4624f",
   "metadata": {},
   "outputs": [],
   "source": [
    "# On built le modèle CNN\n",
    "model = models.Sequential([\n",
    "    layers.Conv2D(32, (3, 3), activation='relu', input_shape=(28, 28, 1)),\n",
    "    layers.MaxPooling2D((2, 2)),\n",
    "    layers.Conv2D(64, (3, 3), activation='relu'),\n",
    "    layers.MaxPooling2D((2, 2)),\n",
    "    layers.Conv2D(64, (3, 3), activation='relu'),\n",
    "    layers.Flatten(),\n",
    "    layers.Dense(64, activation='relu'),\n",
    "    layers.Dense(10, activation='softmax')\n",
    "])"
   ]
  },
  {
   "cell_type": "code",
   "execution_count": 5,
   "id": "4a14180b-9f74-4acf-8684-f3aa05fb88cb",
   "metadata": {},
   "outputs": [],
   "source": [
    "# Compile the model\n",
    "model.compile(optimizer='adam',\n",
    "              loss='categorical_crossentropy',\n",
    "              metrics=['accuracy'])\n"
   ]
  },
  {
   "cell_type": "code",
   "execution_count": 6,
   "id": "d819ca49-34dc-4a17-b3f0-bbe283c5c9ea",
   "metadata": {},
   "outputs": [
    {
     "name": "stdout",
     "output_type": "stream",
     "text": [
      "Epoch 1/5\n",
      "938/938 [==============================] - 8s 8ms/step - loss: 0.1857 - accuracy: 0.9437\n",
      "Epoch 2/5\n",
      "938/938 [==============================] - 9s 10ms/step - loss: 0.0499 - accuracy: 0.9846\n",
      "Epoch 3/5\n",
      "938/938 [==============================] - 9s 10ms/step - loss: 0.0362 - accuracy: 0.9891\n",
      "Epoch 4/5\n",
      "938/938 [==============================] - 9s 10ms/step - loss: 0.0292 - accuracy: 0.9906\n",
      "Epoch 5/5\n",
      "938/938 [==============================] - 9s 9ms/step - loss: 0.0230 - accuracy: 0.9928\n"
     ]
    },
    {
     "data": {
      "text/plain": [
       "<keras.src.callbacks.History at 0x293afec70>"
      ]
     },
     "execution_count": 6,
     "metadata": {},
     "output_type": "execute_result"
    }
   ],
   "source": [
    "model.fit(train_images, train_labels, epochs=5, batch_size=64)"
   ]
  },
  {
   "cell_type": "code",
   "execution_count": 7,
   "id": "9a4ab419-24d3-497e-9023-804b91453582",
   "metadata": {},
   "outputs": [
    {
     "name": "stdout",
     "output_type": "stream",
     "text": [
      "313/313 [==============================] - 1s 2ms/step - loss: 0.0261 - accuracy: 0.9925\n",
      "Test accuracy: 0.9925000071525574\n"
     ]
    }
   ],
   "source": [
    "# Tester le modèle\n",
    "test_loss, test_acc = model.evaluate(test_images, test_labels)\n",
    "print(\"Test accuracy:\", test_acc)"
   ]
  },
  {
   "cell_type": "markdown",
   "id": "cef2b6e8-b6d5-4d8a-b46d-0fc438cca5c7",
   "metadata": {},
   "source": [
    "# Pour télécharger le modèle : (voir fichier TrainedModel.ipynb pour utilisation)"
   ]
  },
  {
   "cell_type": "code",
   "execution_count": 8,
   "id": "4bd084fa-7c1f-4584-99ee-c8c015354cc8",
   "metadata": {},
   "outputs": [
    {
     "name": "stdout",
     "output_type": "stream",
     "text": [
      "INFO:tensorflow:Assets written to: cnn_model_mnist.model2/assets\n"
     ]
    },
    {
     "name": "stderr",
     "output_type": "stream",
     "text": [
      "INFO:tensorflow:Assets written to: cnn_model_mnist.model2/assets\n"
     ]
    }
   ],
   "source": [
    "model.save('cnn_model_mnist.model3')"
   ]
  }
 ],
 "metadata": {
  "kernelspec": {
   "display_name": "Keras Env",
   "language": "python",
   "name": "keras"
  },
  "language_info": {
   "codemirror_mode": {
    "name": "ipython",
    "version": 3
   },
   "file_extension": ".py",
   "mimetype": "text/x-python",
   "name": "python",
   "nbconvert_exporter": "python",
   "pygments_lexer": "ipython3",
   "version": "3.8.19"
  }
 },
 "nbformat": 4,
 "nbformat_minor": 5
}
